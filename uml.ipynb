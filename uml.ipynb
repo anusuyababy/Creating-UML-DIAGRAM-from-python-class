{
  "nbformat": 4,
  "nbformat_minor": 0,
  "metadata": {
    "colab": {
      "provenance": []
    },
    "kernelspec": {
      "name": "python3",
      "display_name": "Python 3"
    },
    "language_info": {
      "name": "python"
    }
  },
  "cells": [
    {
      "cell_type": "code",
      "source": [
        "!pip install --q pylint"
      ],
      "metadata": {
        "id": "S8uLSQrGWj1l",
        "colab": {
          "base_uri": "https://localhost:8080/"
        },
        "outputId": "067e3d11-b63f-4e7b-ad1c-3a6661cdc6eb"
      },
      "execution_count": 7,
      "outputs": [
        {
          "output_type": "stream",
          "name": "stdout",
          "text": [
            "\u001b[K     |████████████████████████████████| 508 kB 5.1 MB/s \n",
            "\u001b[K     |████████████████████████████████| 264 kB 61.8 MB/s \n",
            "\u001b[K     |████████████████████████████████| 103 kB 28.1 MB/s \n",
            "\u001b[K     |████████████████████████████████| 41 kB 584 kB/s \n",
            "\u001b[?25h  Installing build dependencies ... \u001b[?25l\u001b[?25hdone\n",
            "  Getting requirements to build wheel ... \u001b[?25l\u001b[?25hdone\n",
            "    Preparing wheel metadata ... \u001b[?25l\u001b[?25hdone\n",
            "\u001b[K     |████████████████████████████████| 843 kB 43.7 MB/s \n",
            "\u001b[?25h  Building wheel for lazy-object-proxy (PEP 517) ... \u001b[?25l\u001b[?25hdone\n"
          ]
        }
      ]
    },
    {
      "cell_type": "code",
      "source": [
        "!pyreverse -o png program"
      ],
      "metadata": {
        "colab": {
          "base_uri": "https://localhost:8080/"
        },
        "id": "s0NalD-cWj3f",
        "outputId": "51a12666-682e-44df-be95-339dcc176b77"
      },
      "execution_count": 19,
      "outputs": [
        {
          "output_type": "stream",
          "name": "stdout",
          "text": [
            "Format png is not supported natively. Pyreverse will try to generate it using Graphviz...\n",
            "parsing /content/program1.py...\n"
          ]
        }
      ]
    }
  ]
}
